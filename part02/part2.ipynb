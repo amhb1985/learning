{
 "cells": [
  {
   "cell_type": "code",
   "execution_count": null,
   "id": "7d8ba0ee-62fa-45a4-b070-2b3f9d376079",
   "metadata": {},
   "outputs": [],
   "source": [
    "##this is test and review again the all of code with jupterlab"
   ]
  },
  {
   "cell_type": "code",
   "execution_count": 6,
   "id": "9e969228-eb54-4676-b086-7eb664a2edfe",
   "metadata": {},
   "outputs": [
    {
     "name": "stdin",
     "output_type": "stream",
     "text": [
      "Enter the starting day number (0 for Sunday, 1 for Monday, ..., 6 for Saturday):  0\n",
      "Enter the length of your stay in nights:  10\n"
     ]
    },
    {
     "name": "stdout",
     "output_type": "stream",
     "text": [
      "You will return home on a Wed.\n"
     ]
    }
   ],
   "source": [
    "#part : 02_17\n",
    "# its about some simple example for the days in te week and the result of code:\n",
    "days_of_week = [\"Su\", \"Mo\", \"Tu\", \"Wed\", \"Thu\", \"Fr\", \"Sa\"]\n",
    "days_of_Month = [\"Su\", \"Mo\", \"Tu\", \"Wed\", \"Thu\", \"Fr\", \"Sa\"]\n",
    "start_day_number = int(input(\"Enter the starting day number (0 for Sunday, 1 for Monday, ..., 6 for Saturday): \"))\n",
    "length_of_stay = int(input(\"Enter the length of your stay in nights: \"))\n",
    "return_day_number = (start_day_number + length_of_stay) % 7\n",
    "print(f\"You will return home on a {days_of_week[return_day_number]}.\")\n",
    "\n"
   ]
  },
  {
   "cell_type": "code",
   "execution_count": null,
   "id": "8993cf3c-45e7-47cd-a876-cf09aca7e037",
   "metadata": {},
   "outputs": [],
   "source": [
    "#the 2nd example and we are going to the 2nd example:"
   ]
  },
  {
   "cell_type": "code",
   "execution_count": 1,
   "id": "f4355108-3801-4b98-9a40-904e39bc50c4",
   "metadata": {},
   "outputs": [
    {
     "name": "stdin",
     "output_type": "stream",
     "text": [
      "Enter the number of years:  12\n"
     ]
    },
    {
     "name": "stdout",
     "output_type": "stream",
     "text": [
      "The final amount after 12 years will be: 26033.89\n"
     ]
    }
   ],
   "source": [
    "# Assign values to variables\n",
    "P = 10000  # principal amount!\n",
    "n = 12     # number of times interest is compounded per year\n",
    "r = 0.08   # annual interest rate!\n",
    "\n",
    "# Prompt user for  number of years\n",
    "t = int(input(\"Enter the number of years: \"))\n",
    "\n",
    "# Calculate the final amount using the compound interest formula\n",
    "A = P * (1 + r/n)**(n*t)\n",
    "\n",
    "# Print the final amount after t years\n",
    "print(f\"The final amount after {t} years will be: {A:.2f}\")\n"
   ]
  },
  {
   "cell_type": "markdown",
   "id": "c9a5f008-6386-4c7c-b8a3-54bf90046ba3",
   "metadata": {},
   "source": []
  },
  {
   "cell_type": "markdown",
   "id": "26a2e5e4-19c8-4389-9091-67a5dbcae68b",
   "metadata": {},
   "source": [
    "# another one actully the 3rd one"
   ]
  },
  {
   "cell_type": "code",
   "execution_count": 3,
   "id": "571119fa-65a6-45d9-911b-503e18805dff",
   "metadata": {},
   "outputs": [
    {
     "name": "stdout",
     "output_type": "stream",
     "text": [
      "36\n"
     ]
    }
   ],
   "source": [
    "def square(x):\n",
    "    return x ** 2\n",
    "\n",
    "#Assign the variable xyz the value of 5 squared using the square function\n",
    "xyz = square(6)\n",
    "#Print the result\n",
    "print(xyz)"
   ]
  },
  {
   "cell_type": "code",
   "execution_count": null,
   "id": "b2e6b9d2-b4f9-4cb1-b299-7574fcb87a0c",
   "metadata": {},
   "outputs": [],
   "source": [
    "# end "
   ]
  }
 ],
 "metadata": {
  "kernelspec": {
   "display_name": "Python 3 (ipykernel)",
   "language": "python",
   "name": "python3"
  },
  "language_info": {
   "codemirror_mode": {
    "name": "ipython",
    "version": 3
   },
   "file_extension": ".py",
   "mimetype": "text/x-python",
   "name": "python",
   "nbconvert_exporter": "python",
   "pygments_lexer": "ipython3",
   "version": "3.10.13"
  }
 },
 "nbformat": 4,
 "nbformat_minor": 5
}
