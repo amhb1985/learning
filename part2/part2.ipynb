{
 "cells": [
  {
   "cell_type": "code",
   "execution_count": null,
   "id": "7d8ba0ee-62fa-45a4-b070-2b3f9d376079",
   "metadata": {},
   "outputs": [],
   "source": [
    "##this is test and review again the all of code with jupterlab"
   ]
  },
  {
   "cell_type": "code",
   "execution_count": 6,
   "id": "9e969228-eb54-4676-b086-7eb664a2edfe",
   "metadata": {},
   "outputs": [
    {
     "name": "stdin",
     "output_type": "stream",
     "text": [
      "Enter the starting day number (0 for Sunday, 1 for Monday, ..., 6 for Saturday):  0\n",
      "Enter the length of your stay in nights:  10\n"
     ]
    },
    {
     "name": "stdout",
     "output_type": "stream",
     "text": [
      "You will return home on a Wed.\n"
     ]
    }
   ],
   "source": [
    "\n",
    "days_of_week = [\"Su\", \"Mo\", \"Tu\", \"Wed\", \"Thu\", \"Fr\", \"Sa\"]\n",
    "days_of_Month = [\"Su\", \"Mo\", \"Tu\", \"Wed\", \"Thu\", \"Fr\", \"Sa\"]\n",
    "start_day_number = int(input(\"Enter the starting day number (0 for Sunday, 1 for Monday, ..., 6 for Saturday): \"))\n",
    "length_of_stay = int(input(\"Enter the length of your stay in nights: \"))\n",
    "return_day_number = (start_day_number + length_of_stay) % 7\n",
    "print(f\"You will return home on a {days_of_week[return_day_number]}.\")\n",
    "\n"
   ]
  },
  {
   "cell_type": "code",
   "execution_count": null,
   "id": "8993cf3c-45e7-47cd-a876-cf09aca7e037",
   "metadata": {},
   "outputs": [],
   "source": []
  }
 ],
 "metadata": {
  "kernelspec": {
   "display_name": "Python 3 (ipykernel)",
   "language": "python",
   "name": "python3"
  },
  "language_info": {
   "codemirror_mode": {
    "name": "ipython",
    "version": 3
   },
   "file_extension": ".py",
   "mimetype": "text/x-python",
   "name": "python",
   "nbconvert_exporter": "python",
   "pygments_lexer": "ipython3",
   "version": "3.10.13"
  }
 },
 "nbformat": 4,
 "nbformat_minor": 5
}
