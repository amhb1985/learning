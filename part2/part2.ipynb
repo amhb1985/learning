{
 "cells": [
  {
   "cell_type": "code",
   "execution_count": null,
   "id": "7d8ba0ee-62fa-45a4-b070-2b3f9d376079",
   "metadata": {},
   "outputs": [],
   "source": [
    "##this is test and review again the all of code with jupterlab"
   ]
  },
  {
   "cell_type": "code",
   "execution_count": 2,
   "id": "d74437df-1746-4e8b-a8fb-0ec206fc6842",
   "metadata": {},
   "outputs": [
    {
     "name": "stdin",
     "output_type": "stream",
     "text": [
      "Enter the starting day number (0 for Sunday, 1 for Monday, ..., 6 for Saturday):  0\n"
     ]
    }
   ],
   "source": [
    "# Define the days of the week , we do not need the whole name of them\n",
    "days_of_week = [\"Su\", \"Mo\", \"Tu\", \"Wed\", \"Thu\", \"Fr\", \"Sa\"]\n",
    "days_of_Month = [\"Su\", \"Mo\", \"Tu\", \"Wed\", \"Thu\", \"Fr\", \"Sa\"]\n",
    "# Ask the user for the starting day number (0 to 6)\n",
    "start_day_number = int(input(\"Enter the starting day number (0 for Sunday, 1 for Monday, ..., 6 for Saturday): \"))"
   ]
  },
  {
   "cell_type": "code",
   "execution_count": 3,
   "id": "bc5ce022-530a-4e42-b7c4-37fdaa04b118",
   "metadata": {},
   "outputs": [
    {
     "name": "stdin",
     "output_type": "stream",
     "text": [
      "Enter the length of your stay in nights:  12\n"
     ]
    }
   ],
   "source": [
    "# Ask the user for the length of stay\n",
    "length_of_stay = int(input(\"Enter the length of your stay in nights: \"))"
   ]
  },
  {
   "cell_type": "code",
   "execution_count": 4,
   "id": "9da42e9b-482b-4e6c-aa77-8fda25b63c01",
   "metadata": {},
   "outputs": [],
   "source": [
    "# Calculate the return day number using the days_of_week list\n",
    "return_day_number = (start_day_number + length_of_stay) % 7"
   ]
  },
  {
   "cell_type": "code",
   "execution_count": 5,
   "id": "455f6ccb-3e56-437a-916f-00a02415be77",
   "metadata": {},
   "outputs": [
    {
     "name": "stdout",
     "output_type": "stream",
     "text": [
      "You will return home on a Fr.\n"
     ]
    }
   ],
   "source": [
    "# Output the day of the week you will return on\n",
    "print(f\"You will return home on a {days_of_week[return_day_number]}.\")"
   ]
  },
  {
   "cell_type": "code",
   "execution_count": null,
   "id": "9e27b1fd-e293-4a81-a8d9-ee6f6cae6817",
   "metadata": {},
   "outputs": [],
   "source": [
    "#"
   ]
  }
 ],
 "metadata": {
  "kernelspec": {
   "display_name": "Python 3 (ipykernel)",
   "language": "python",
   "name": "python3"
  },
  "language_info": {
   "codemirror_mode": {
    "name": "ipython",
    "version": 3
   },
   "file_extension": ".py",
   "mimetype": "text/x-python",
   "name": "python",
   "nbconvert_exporter": "python",
   "pygments_lexer": "ipython3",
   "version": "3.10.13"
  }
 },
 "nbformat": 4,
 "nbformat_minor": 5
}
