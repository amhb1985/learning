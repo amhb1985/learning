{
 "cells": [
  {
   "cell_type": "code",
   "execution_count": null,
   "id": "5bfd4881-e763-45d1-87a6-871a3f04f264",
   "metadata": {},
   "outputs": [],
   "source": [
    "# so this is about Open CV package"
   ]
  }
 ],
 "metadata": {
  "kernelspec": {
   "display_name": "Python 3 (ipykernel)",
   "language": "python",
   "name": "python3"
  },
  "language_info": {
   "codemirror_mode": {
    "name": "ipython",
    "version": 3
   },
   "file_extension": ".py",
   "mimetype": "text/x-python",
   "name": "python",
   "nbconvert_exporter": "python",
   "pygments_lexer": "ipython3",
   "version": "3.10.13"
  }
 },
 "nbformat": 4,
 "nbformat_minor": 5
}
