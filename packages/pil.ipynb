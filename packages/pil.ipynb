{
 "cells": [
  {
   "cell_type": "code",
   "execution_count": null,
   "id": "66de47db-614c-411a-b1a5-1c109c4dfd23",
   "metadata": {},
   "outputs": [],
   "source": [
    "# this is abot the PIL package in the py 3"
   ]
  },
  {
   "cell_type": "code",
   "execution_count": null,
   "id": "10d35aea-d840-4d17-b0bc-2176b9e51b6f",
   "metadata": {},
   "outputs": [],
   "source": [
    "# so we can test the pillow package for the filter of any pictuter inside of python"
   ]
  },
  {
   "cell_type": "code",
   "execution_count": null,
   "id": "7c7d24e9-98cd-4388-a45d-16dd50450c1b",
   "metadata": {},
   "outputs": [],
   "source": []
  }
 ],
 "metadata": {
  "kernelspec": {
   "display_name": "Python 3 (ipykernel)",
   "language": "python",
   "name": "python3"
  },
  "language_info": {
   "codemirror_mode": {
    "name": "ipython",
    "version": 3
   },
   "file_extension": ".py",
   "mimetype": "text/x-python",
   "name": "python",
   "nbconvert_exporter": "python",
   "pygments_lexer": "ipython3",
   "version": "3.10.13"
  }
 },
 "nbformat": 4,
 "nbformat_minor": 5
}
