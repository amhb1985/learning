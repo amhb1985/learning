{
 "cells": [
  {
   "cell_type": "code",
   "execution_count": null,
   "id": "0a6033d9-6c5a-4db9-9afe-22e836f880b0",
   "metadata": {},
   "outputs": [],
   "source": [
    "# this is about Tesseract Library inside of PILL package in py3"
   ]
  }
 ],
 "metadata": {
  "kernelspec": {
   "display_name": "Python 3 (ipykernel)",
   "language": "python",
   "name": "python3"
  },
  "language_info": {
   "codemirror_mode": {
    "name": "ipython",
    "version": 3
   },
   "file_extension": ".py",
   "mimetype": "text/x-python",
   "name": "python",
   "nbconvert_exporter": "python",
   "pygments_lexer": "ipython3",
   "version": "3.10.13"
  }
 },
 "nbformat": 4,
 "nbformat_minor": 5
}
